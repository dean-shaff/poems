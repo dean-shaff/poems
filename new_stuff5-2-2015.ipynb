{
 "metadata": {
  "name": ""
 },
 "nbformat": 3,
 "nbformat_minor": 0,
 "worksheets": [
  {
   "cells": [
    {
     "cell_type": "code",
     "collapsed": false,
     "input": [
      "import sentenceprobdev as sen\n",
      "sentence_chunk = []\n",
      "for sentence in sen.imp_sen:\n",
      "    for index, word in enumerate(sentence):\n",
      "        if word[0] == 'love':\n",
      "            index_love = index\n",
      "            sentence_chunk.append(sentence[index_love-2:index_love+3])\n",
      "    \n",
      "def middle_index(list1):\n",
      "    if len(list1)%2 == 0:\n",
      "        print(\"Can't find middle index\")\n",
      "        raise IndexError\n",
      "    return len(list1)/2 \n",
      "\n",
      "freq_dic = {}\n",
      "freq_dic2 = {}\n",
      "freq_dic['love'] = [{} for i in xrange(5)]\n",
      "# I need to find a better way to do this. I'm iterating over everything twice!! \n",
      "freq_dic2['love'] = [{} for i in xrange(3)]\n",
      "love_total = 0\n",
      "for sentence in sentence_chunk:\n",
      "    for index, word in enumerate(sentence):\n",
      "        if word[0].lower() == 'love':\n",
      "            love_total += 1.0\n",
      "        freq_dic['love'][index][str(word[0])] = [word[1],0.0]\n",
      "\n",
      "for sentence in sentence_chunk:\n",
      "    for index, word in enumerate(sentence):\n",
      "        freq_dic['love'][index][str(word[0])][1] += 1.0/love_total\n",
      "\n",
      "#grouping by twos\n",
      "for sentence in sentence_chunk:  \n",
      "    for index in xrange(3): #for index in xrange(3)\n",
      "        try:\n",
      "            if index < middle_index(range(3)):\n",
      "                place = 2*index\n",
      "                words = sentence[place:place+2]\n",
      "                freq_dic2['love'][index][str(words[0][0]+\" \"+words[1][0])] = [words[0][1]+\" \"+words[1][1],0.0]\n",
      "            elif index == middle_index(range(3)):\n",
      "                word = sentence[middle_index(sentence)]\n",
      "                freq_dic2['love'][index][str(word[0])] = [word[1],0.0]\n",
      "            elif index > middle_index(range(3)):\n",
      "                place = 2*index-1\n",
      "                words = sentence[place:place+2]\n",
      "                freq_dic2['love'][index][str(words[0][0]+\" \"+words[1][0])] = [words[0][1]+\" \"+words[1][1],0.0]\n",
      "        except IndexError:\n",
      "            break\n",
      "# for sentence in sentence_chunk:\n",
      "#     for index in xrange(3): #for index in xrange(3)\n",
      "#         if index < middle_index(range(3)):\n",
      "#             place = 2*index\n",
      "#             words = sentence[place:place+2]\n",
      "#             freq_dic2['love'][index][str(words[0][0]+\" \"+words[1][0])][1] += 1.0/love_total\n",
      "#         elif index == middle_index(range(3)):\n",
      "#             word = sentence[middle_index(sentence)]\n",
      "#             freq_dic2['love'][index][str(word[0])][1] += 1.0/love_total\n",
      "#         elif index > middle_index(range(3)):\n",
      "#             place = 2*index+1\n",
      "#             words = sentence[place:place+2]\n",
      "#             freq_dic2['love'][index][str(words[0][0]+\" \"+words[1][0])][1] += 1.0/love_total\n",
      "print(freq_dic2['love'])\n",
      "            \n",
      "#     freq_dic2['love'][0][str(sentence[0][0] + sentence[1][0])] = [sentence[0][1] + sentence[1][1], 0.0]\n",
      "#     freq_dic2['love'][1][str(sentence[1][0])] = [sentence[2][1],0.0]\n",
      "#     freq_dic2['love'][2][str(sentence[3][0] + sentence[4][0])] = [sentence[3][1] + sentence[4][1], 0.0]\n",
      "    \n",
      "    \n",
      "# print(freq_dic['love'][0])\n",
      "    "
     ],
     "language": "python",
     "metadata": {},
     "outputs": [
      {
       "output_type": "stream",
       "stream": "stdout",
       "text": [
        "Can't find middle index\n",
        "{'poor': [u'JJ', 0.0], 'love': [u'NN', 0.0], 'of': [u'IN', 0.0], 'dared': [u'VBD', 0.0], 'want': [u'VBP', 0.0], 'not': [u'RB', 0.0], 'my': [u'PRP$', 0.0]}\n"
       ]
      }
     ],
     "prompt_number": 25
    },
    {
     "cell_type": "code",
     "collapsed": false,
     "input": [
      "def middle_index(list1):\n",
      "    if len(list1)%2 == 0:\n",
      "        print(\"Can't find middle index\")\n",
      "    return len(list1)/2 \n",
      "\n",
      "foo = range(9)\n",
      "foo[0:2]"
     ],
     "language": "python",
     "metadata": {},
     "outputs": [
      {
       "metadata": {},
       "output_type": "pyout",
       "prompt_number": 24,
       "text": [
        "[0, 1]"
       ]
      }
     ],
     "prompt_number": 24
    },
    {
     "cell_type": "code",
     "collapsed": false,
     "input": [],
     "language": "python",
     "metadata": {},
     "outputs": []
    }
   ],
   "metadata": {}
  }
 ]
}