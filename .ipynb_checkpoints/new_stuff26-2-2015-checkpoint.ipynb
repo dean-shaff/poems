{
 "metadata": {
  "name": ""
 },
 "nbformat": 3,
 "nbformat_minor": 0,
 "worksheets": [
  {
   "cells": [
    {
     "cell_type": "code",
     "collapsed": false,
     "input": [
      "from sentenceprob import sentence_processor, Sentence_Probability\n",
      "import numpy as np \n",
      "\n",
      "filename = 'melville.txt'\n",
      "tagged = Sentence_Probability(filename,max_line='max',\n",
      "                              write_to_file=False,load_tagged=True,load_tot_prob=True)\n",
      "\n",
      "for sentence in tagged.sen_tag_pword:\n",
      "    \n",
      "    tagged.calc_cumu_prob(sentence)\n",
      "    \n"
     ],
     "language": "python",
     "metadata": {},
     "outputs": [
      {
       "ename": "ValueError",
       "evalue": "u'H' is not in list",
       "output_type": "pyerr",
       "traceback": [
        "\u001b[0;31m---------------------------------------------------------------------------\u001b[0m\n\u001b[0;31mValueError\u001b[0m                                Traceback (most recent call last)",
        "\u001b[0;32m<ipython-input-6-195d7c985574>\u001b[0m in \u001b[0;36m<module>\u001b[0;34m()\u001b[0m\n\u001b[1;32m      8\u001b[0m \u001b[0;32mfor\u001b[0m \u001b[0msentence\u001b[0m \u001b[0;32min\u001b[0m \u001b[0mtagged\u001b[0m\u001b[0;34m.\u001b[0m\u001b[0msen_tag_pword\u001b[0m\u001b[0;34m:\u001b[0m\u001b[0;34m\u001b[0m\u001b[0m\n\u001b[1;32m      9\u001b[0m     \u001b[0;32mprint\u001b[0m\u001b[0;34m(\u001b[0m\u001b[0msentence\u001b[0m\u001b[0;34m)\u001b[0m\u001b[0;34m\u001b[0m\u001b[0m\n\u001b[0;32m---> 10\u001b[0;31m     \u001b[0mtagged\u001b[0m\u001b[0;34m.\u001b[0m\u001b[0mcalc_cumu_prob\u001b[0m\u001b[0;34m(\u001b[0m\u001b[0msentence\u001b[0m\u001b[0;34m)\u001b[0m\u001b[0;34m\u001b[0m\u001b[0m\n\u001b[0m\u001b[1;32m     11\u001b[0m \u001b[0;34m\u001b[0m\u001b[0m\n",
        "\u001b[0;32m/Users/dean/python_stuff_mac/poems/sentenceprob.py\u001b[0m in \u001b[0;36mcalc_cumu_prob\u001b[0;34m(self, sentence, **kwargs)\u001b[0m\n\u001b[1;32m    382\u001b[0m                 \u001b[0mcoord\u001b[0m\u001b[0;34m[\u001b[0m\u001b[0;36m0\u001b[0m\u001b[0;34m:\u001b[0m\u001b[0mposition\u001b[0m\u001b[0;34m+\u001b[0m\u001b[0mfirst_chunk\u001b[0m\u001b[0;34m+\u001b[0m\u001b[0;36m1\u001b[0m\u001b[0;34m]\u001b[0m \u001b[0;34m=\u001b[0m \u001b[0mcoord2\u001b[0m\u001b[0;34m[\u001b[0m\u001b[0;36m0\u001b[0m\u001b[0;34m:\u001b[0m\u001b[0mposition\u001b[0m\u001b[0;34m+\u001b[0m\u001b[0mfirst_chunk\u001b[0m\u001b[0;34m+\u001b[0m\u001b[0;36m1\u001b[0m\u001b[0;34m]\u001b[0m\u001b[0;34m\u001b[0m\u001b[0m\n\u001b[1;32m    383\u001b[0m             \u001b[0;32melif\u001b[0m \u001b[0mposition\u001b[0m \u001b[0;34m>\u001b[0m \u001b[0mlength\u001b[0m \u001b[0;34m-\u001b[0m \u001b[0msecond_chunk\u001b[0m\u001b[0;34m:\u001b[0m\u001b[0;34m\u001b[0m\u001b[0m\n\u001b[0;32m--> 384\u001b[0;31m                 \u001b[0mcoord\u001b[0m\u001b[0;34m[\u001b[0m\u001b[0mposition\u001b[0m\u001b[0;34m-\u001b[0m\u001b[0msecond_chunk\u001b[0m\u001b[0;34m:\u001b[0m\u001b[0mlength\u001b[0m\u001b[0;34m]\u001b[0m \u001b[0;34m=\u001b[0m \u001b[0mcoord2\u001b[0m\u001b[0;34m[\u001b[0m\u001b[0mposition\u001b[0m\u001b[0;34m-\u001b[0m\u001b[0msecond_chunk\u001b[0m\u001b[0;34m:\u001b[0m\u001b[0mlength\u001b[0m\u001b[0;34m]\u001b[0m\u001b[0;34m\u001b[0m\u001b[0m\n\u001b[0m\u001b[1;32m    385\u001b[0m             \u001b[0;32melse\u001b[0m\u001b[0;34m:\u001b[0m\u001b[0;34m\u001b[0m\u001b[0m\n\u001b[1;32m    386\u001b[0m                 \u001b[0mcoord\u001b[0m\u001b[0;34m[\u001b[0m\u001b[0mposition\u001b[0m\u001b[0;34m-\u001b[0m\u001b[0mfirst_chunk\u001b[0m\u001b[0;34m:\u001b[0m\u001b[0mposition\u001b[0m\u001b[0;34m+\u001b[0m\u001b[0msecond_chunk\u001b[0m\u001b[0;34m+\u001b[0m\u001b[0;36m1\u001b[0m\u001b[0;34m]\u001b[0m \u001b[0;34m=\u001b[0m \u001b[0mcoord2\u001b[0m\u001b[0;34m[\u001b[0m\u001b[0mposition\u001b[0m\u001b[0;34m-\u001b[0m\u001b[0mfirst_chunk\u001b[0m\u001b[0;34m:\u001b[0m\u001b[0mposition\u001b[0m\u001b[0;34m+\u001b[0m\u001b[0msecond_chunk\u001b[0m\u001b[0;34m+\u001b[0m\u001b[0;36m1\u001b[0m\u001b[0;34m]\u001b[0m\u001b[0;34m\u001b[0m\u001b[0m\n",
        "\u001b[0;31mValueError\u001b[0m: u'H' is not in list"
       ]
      },
      {
       "output_type": "stream",
       "stream": "stdout",
       "text": [
        "Time creating object: 3.31\n",
        "Time loading tagged list: 0.00 seconds\n",
        "[(u'CHAPTER', u'NN'), (u'1', u'CD')]\n"
       ]
      }
     ],
     "prompt_number": 6
    },
    {
     "cell_type": "code",
     "collapsed": false,
     "input": [],
     "language": "python",
     "metadata": {},
     "outputs": []
    }
   ],
   "metadata": {}
  }
 ]
}